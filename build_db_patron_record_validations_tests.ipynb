{
 "cells": [
  {
   "cell_type": "code",
   "execution_count": null,
   "id": "9fe4ad6e-7dd3-4b49-a304-0826db463f89",
   "metadata": {},
   "outputs": [],
   "source": [
    "# some test suggestions\n",
    "# \n",
    "# import unittest\n",
    "# import sqlite3\n",
    "\n",
    "# class TestSQLiteConnection(unittest.TestCase):\n",
    "\n",
    "#     TEST_DB_PATH = ':memory:'  # We'll use an in-memory database for testing\n",
    "\n",
    "#     def test_connection_established(self):\n",
    "#         with SQLiteConnection(self.TEST_DB_PATH) as conn:\n",
    "#             self.assertIsInstance(conn, sqlite3.Connection)\n",
    "\n",
    "#     def test_json_diff_function_registered(self):\n",
    "#         with SQLiteConnection(self.TEST_DB_PATH) as conn:\n",
    "#             cursor = conn.cursor()\n",
    "#             # We'll use a simple test for the json_diff function here\n",
    "#             result = cursor.execute(\"SELECT json_diff('old', 'new')\").fetchone()\n",
    "#             self.assertEqual(result[0], \"old -> new\")\n",
    "\n",
    "#     def test_connection_closed_after_exit(self):\n",
    "#         with SQLiteConnection(self.TEST_DB_PATH) as conn:\n",
    "#             pass  # Exiting the with block\n",
    "#         self.assertTrue(conn.in_transaction is None)\n",
    "\n",
    "# if __name__ == '__main__':\n",
    "#     unittest.main()\n",
    "\n",
    "# if not os.path.isfile(db_file):\n",
    "#     print('not exists')\n",
    "#     # start searching from timestamp 0\n",
    "#      = datetime.fromtimestamp(0).date().isoformat()\n",
    "# else:\n",
    "#     # query the sqlite db for the last update date\n",
    "#     pass\n"
   ]
  }
 ],
 "metadata": {
  "kernelspec": {
   "display_name": "Python 3 (ipykernel)",
   "language": "python",
   "name": "python3"
  },
  "language_info": {
   "codemirror_mode": {
    "name": "ipython",
    "version": 3
   },
   "file_extension": ".py",
   "mimetype": "text/x-python",
   "name": "python",
   "nbconvert_exporter": "python",
   "pygments_lexer": "ipython3",
   "version": "3.9.2"
  }
 },
 "nbformat": 4,
 "nbformat_minor": 5
}
